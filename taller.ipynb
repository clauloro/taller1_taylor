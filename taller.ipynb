{
 "cells": [
  {
   "cell_type": "markdown",
   "metadata": {},
   "source": [
    "Taller 1: taylor\n"
   ]
  },
  {
   "cell_type": "code",
   "execution_count": 1,
   "metadata": {},
   "outputs": [],
   "source": [
    "import numpy as np\n",
    "import matplotlib.pyplot as plt"
   ]
  },
  {
   "cell_type": "code",
   "execution_count": 3,
   "metadata": {},
   "outputs": [],
   "source": [
    "def f(x):\n",
    "    return -3*x**4 -2*x**2 -x +50"
   ]
  },
  {
   "cell_type": "code",
   "execution_count": 6,
   "metadata": {},
   "outputs": [],
   "source": [
    "def d1(x):\n",
    "    return -12*x**3 -4*x -1"
   ]
  },
  {
   "cell_type": "code",
   "execution_count": 7,
   "metadata": {},
   "outputs": [],
   "source": [
    "def d2(x):\n",
    "    return -36*x**2 -4 "
   ]
  },
  {
   "cell_type": "code",
   "execution_count": 8,
   "metadata": {},
   "outputs": [],
   "source": [
    "def d3(x):\n",
    "    return -72*x"
   ]
  },
  {
   "cell_type": "code",
   "execution_count": 9,
   "metadata": {},
   "outputs": [],
   "source": [
    "def d4(x):\n",
    "    return -72"
   ]
  },
  {
   "cell_type": "code",
   "execution_count": 29,
   "metadata": {},
   "outputs": [],
   "source": [
    "def taylor_orden(n,c,h, f, d1, d2,d3,d4): # n= orden c= valor aproximado h= paso\n",
    "    # orden 0:\n",
    "    if n==0:\n",
    "        sol= f(c)\n",
    "    #orden 1:\n",
    "    elif n==1:\n",
    "        sol= f(c) + d1(c)*h \n",
    "    #orden 2\n",
    "    elif n==2:\n",
    "        sol= f(c) + d1(c)*h + (d2(c)/2)*h**2\n",
    "    #orden 3\n",
    "    elif n==3:\n",
    "        sol= f(c) + d1(c)*h + (d2(c)/2)*h**2 + (d3(c)/6)*h**3\n",
    "    #orden 4\n",
    "    elif n==4:\n",
    "        sol= f(c) + d1(c)*h + (d2(c)/2)*h**2 + (d3(c)/6)*h**3 +(d4(c)/24)*h**4\n",
    "    \n",
    "    return sol\n",
    "    # serie  de orden 3 xi= o y h=1 \n",
    "\n",
    "\n",
    "a= taylor_orden(3,0,1,f,d1,d2,d3,d4)\n",
    "b= taylor_orden(1,0,1,f,d1,d2,d3,d4)\n",
    "\n",
    "    \n",
    "    \n",
    "\n"
   ]
  },
  {
   "cell_type": "code",
   "execution_count": 30,
   "metadata": {},
   "outputs": [
    {
     "name": "stdout",
     "output_type": "stream",
     "text": [
      "49\n"
     ]
    }
   ],
   "source": [
    "\n",
    "print(b)"
   ]
  }
 ],
 "metadata": {
  "kernelspec": {
   "display_name": "Python 3",
   "language": "python",
   "name": "python3"
  },
  "language_info": {
   "codemirror_mode": {
    "name": "ipython",
    "version": 3
   },
   "file_extension": ".py",
   "mimetype": "text/x-python",
   "name": "python",
   "nbconvert_exporter": "python",
   "pygments_lexer": "ipython3",
   "version": "3.10.11"
  }
 },
 "nbformat": 4,
 "nbformat_minor": 2
}
